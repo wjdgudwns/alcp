{
 "cells": [
  {
   "cell_type": "markdown",
   "id": "b08171b1",
   "metadata": {},
   "source": [
    "# 1. Introduction\n",
    "\n",
    "## 1.1. Problem Statement\n",
    "\n",
    "The proliferation of online content necessitates effective methods for detecting and moderating harmful language. This project addresses the challenge of classifying online comments into multiple categories of toxicity, such as toxic, severe toxic, obscene, threat, insult, and identity hate. This is formulated as a multi-label classification problem, where each comment can belong to zero, one, or multiple toxicity categories.\n",
    "\n",
    "## 1.2. Motivation\n",
    "\n",
    "Automated toxic comment detection is crucial for maintaining healthy online communities, preventing cyberbullying, and reducing the burden on human moderators. Building accurate and robust models contributes significantly to platform safety and user well-being.\n",
    "\n",
    "## 1.3. Approach\n",
    "\n",
    "This notebook employs a state-of-the-art approach using a pre-trained Transformer model, specifically BERT (Bidirectional Encoder Representations from Transformers). The core strategy involves:\n",
    "\n",
    "1. Data Loading and Exploration: Understanding the dataset structure, label distribution, and text characteristics.\n",
    "2. Data Preprocessing: Cleaning text (minimal for BERT) and tokenizing comments using the specific BERT tokenizer.\n",
    "3. Model Definition: Loading a pre-trained BERT model and adapting its final layer for multi-label classification.\n",
    "4. Fine-tuning: Training the BERT model on the toxic comment dataset using appropriate loss functions and optimization techniques.\n",
    "5. Evaluation: Assessing model performance using relevant multi-label classification metrics (e.g., AUC ROC per label).\n",
    "6. Prediction: Generating predictions on the test set.\n",
    "7. (Optional Section) Discussion on advanced techniques like Knowledge Distillation for model compression.\n",
    "\n",
    "## 1.4. Libraries\n",
    "\n",
    "We will primarily use the following libraries:\n",
    "\n",
    "pandas for data manipulation.\n",
    "numpy for numerical operations.\n",
    "scikit-learn for splitting data and evaluation metrics.\n",
    "torch (or tensorflow) as the deep learning framework.\n",
    "transformers by Hugging Face for accessing pre-trained models (BERT) and tokenizers.\n",
    "matplotlib and seaborn for data visualization."
   ]
  },
  {
   "cell_type": "markdown",
   "id": "7dd9644c",
   "metadata": {},
   "source": [
    "# 2. Importing Libraries"
   ]
  },
  {
   "cell_type": "code",
   "execution_count": 4,
   "id": "73d878f9",
   "metadata": {},
   "outputs": [
    {
     "name": "stdout",
     "output_type": "stream",
     "text": [
      "Requirement already satisfied: torch in c:\\users\\cloud\\anaconda3\\lib\\site-packages (2.7.0)Note: you may need to restart the kernel to use updated packages.\n",
      "\n",
      "Requirement already satisfied: networkx in c:\\users\\cloud\\anaconda3\\lib\\site-packages (from torch) (2.8.4)\n",
      "Requirement already satisfied: typing-extensions>=4.10.0 in c:\\users\\cloud\\anaconda3\\lib\\site-packages (from torch) (4.13.2)\n",
      "Requirement already satisfied: fsspec in c:\\users\\cloud\\anaconda3\\lib\\site-packages (from torch) (2022.7.1)\n",
      "Requirement already satisfied: sympy>=1.13.3 in c:\\users\\cloud\\anaconda3\\lib\\site-packages (from torch) (1.14.0)\n",
      "Requirement already satisfied: jinja2 in c:\\users\\cloud\\anaconda3\\lib\\site-packages (from torch) (2.11.3)\n",
      "Requirement already satisfied: filelock in c:\\users\\cloud\\anaconda3\\lib\\site-packages (from torch) (3.6.0)\n",
      "Requirement already satisfied: mpmath<1.4,>=1.1.0 in c:\\users\\cloud\\anaconda3\\lib\\site-packages (from sympy>=1.13.3->torch) (1.2.1)\n",
      "Requirement already satisfied: MarkupSafe>=0.23 in c:\\users\\cloud\\anaconda3\\lib\\site-packages (from jinja2->torch) (2.0.1)\n",
      "Collecting torch\n",
      "  Downloading torch-2.7.0-cp39-cp39-win_amd64.whl (212.4 MB)\n",
      "     -------------------------------------- 212.4/212.4 MB 5.9 MB/s eta 0:00:00\n",
      "Requirement already satisfied: networkx in c:\\users\\cloud\\anaconda3\\lib\\site-packages (from torch) (2.8.4)\n",
      "Requirement already satisfied: typing-extensions>=4.10.0 in c:\\users\\cloud\\anaconda3\\lib\\site-packages (from torch) (4.13.2)\n",
      "Requirement already satisfied: jinja2 in c:\\users\\cloud\\anaconda3\\lib\\site-packages (from torch) (2.11.3)\n",
      "Requirement already satisfied: fsspec in c:\\users\\cloud\\anaconda3\\lib\\site-packages (from torch) (2022.7.1)\n",
      "Collecting sympy>=1.13.3\n",
      "  Downloading sympy-1.14.0-py3-none-any.whl (6.3 MB)\n",
      "     ---------------------------------------- 6.3/6.3 MB 9.6 MB/s eta 0:00:00\n",
      "Requirement already satisfied: filelock in c:\\users\\cloud\\anaconda3\\lib\\site-packages (from torch) (3.6.0)\n",
      "Requirement already satisfied: mpmath<1.4,>=1.1.0 in c:\\users\\cloud\\anaconda3\\lib\\site-packages (from sympy>=1.13.3->torch) (1.2.1)\n",
      "Requirement already satisfied: MarkupSafe>=0.23 in c:\\users\\cloud\\anaconda3\\lib\\site-packages (from jinja2->torch) (2.0.1)\n",
      "Installing collected packages: sympy, torch\n",
      "  Attempting uninstall: sympy\n",
      "    Found existing installation: sympy 1.10.1\n",
      "    Uninstalling sympy-1.10.1:\n",
      "      Successfully uninstalled sympy-1.10.1\n",
      "Successfully installed sympy-1.14.0 torch-2.7.0\n"
     ]
    }
   ],
   "source": [
    "pip install torch"
   ]
  },
  {
   "cell_type": "code",
   "execution_count": 6,
   "id": "c6513003",
   "metadata": {},
   "outputs": [
    {
     "name": "stdout",
     "output_type": "stream",
     "text": [
      "Collecting transformers\n",
      "  Downloading transformers-4.51.3-py3-none-any.whl (10.4 MB)\n",
      "     --------------------------------------- 10.4/10.4 MB 10.4 MB/s eta 0:00:00\n",
      "Collecting huggingface-hub<1.0,>=0.30.0\n",
      "  Downloading huggingface_hub-0.31.1-py3-none-any.whl (484 kB)\n",
      "     ------------------------------------- 484.3/484.3 kB 10.3 MB/s eta 0:00:00\n",
      "Collecting safetensors>=0.4.3\n",
      "  Downloading safetensors-0.5.3-cp38-abi3-win_amd64.whl (308 kB)\n",
      "     -------------------------------------- 308.9/308.9 kB 9.3 MB/s eta 0:00:00\n",
      "Requirement already satisfied: pyyaml>=5.1 in c:\\users\\cloud\\anaconda3\\lib\\site-packages (from transformers) (6.0)\n",
      "Requirement already satisfied: filelock in c:\\users\\cloud\\anaconda3\\lib\\site-packages (from transformers) (3.6.0)\n",
      "Requirement already satisfied: packaging>=20.0 in c:\\users\\cloud\\anaconda3\\lib\\site-packages (from transformers) (21.3)\n",
      "Collecting tokenizers<0.22,>=0.21\n",
      "  Downloading tokenizers-0.21.1-cp39-abi3-win_amd64.whl (2.4 MB)\n",
      "     ---------------------------------------- 2.4/2.4 MB 9.7 MB/s eta 0:00:00\n",
      "Requirement already satisfied: requests in c:\\users\\cloud\\anaconda3\\lib\\site-packages (from transformers) (2.28.1)\n",
      "Requirement already satisfied: regex!=2019.12.17 in c:\\users\\cloud\\anaconda3\\lib\\site-packages (from transformers) (2022.7.9)\n",
      "Requirement already satisfied: tqdm>=4.27 in c:\\users\\cloud\\anaconda3\\lib\\site-packages (from transformers) (4.64.1)\n",
      "Requirement already satisfied: numpy>=1.17 in c:\\users\\cloud\\anaconda3\\lib\\site-packages (from transformers) (1.21.5)\n",
      "Collecting fsspec>=2023.5.0\n",
      "  Downloading fsspec-2025.3.2-py3-none-any.whl (194 kB)\n",
      "     ------------------------------------- 194.4/194.4 kB 12.3 MB/s eta 0:00:00\n",
      "Requirement already satisfied: typing-extensions>=3.7.4.3 in c:\\users\\cloud\\anaconda3\\lib\\site-packages (from huggingface-hub<1.0,>=0.30.0->transformers) (4.13.2)\n",
      "Requirement already satisfied: pyparsing!=3.0.5,>=2.0.2 in c:\\users\\cloud\\anaconda3\\lib\\site-packages (from packaging>=20.0->transformers) (3.0.9)\n",
      "Requirement already satisfied: colorama in c:\\users\\cloud\\anaconda3\\lib\\site-packages (from tqdm>=4.27->transformers) (0.4.5)\n",
      "Requirement already satisfied: urllib3<1.27,>=1.21.1 in c:\\users\\cloud\\anaconda3\\lib\\site-packages (from requests->transformers) (1.26.11)\n",
      "Requirement already satisfied: certifi>=2017.4.17 in c:\\users\\cloud\\anaconda3\\lib\\site-packages (from requests->transformers) (2022.9.14)\n",
      "Requirement already satisfied: charset-normalizer<3,>=2 in c:\\users\\cloud\\anaconda3\\lib\\site-packages (from requests->transformers) (2.0.4)\n",
      "Requirement already satisfied: idna<4,>=2.5 in c:\\users\\cloud\\anaconda3\\lib\\site-packages (from requests->transformers) (3.3)\n",
      "Installing collected packages: safetensors, fsspec, huggingface-hub, tokenizers, transformers\n",
      "  Attempting uninstall: fsspec\n",
      "    Found existing installation: fsspec 2022.7.1\n",
      "    Uninstalling fsspec-2022.7.1:\n",
      "      Successfully uninstalled fsspec-2022.7.1\n",
      "Successfully installed fsspec-2025.3.2 huggingface-hub-0.31.1 safetensors-0.5.3 tokenizers-0.21.1 transformers-4.51.3\n",
      "Note: you may need to restart the kernel to use updated packages.\n"
     ]
    }
   ],
   "source": [
    "pip install transformers"
   ]
  },
  {
   "cell_type": "code",
   "execution_count": 7,
   "id": "9185fdbd",
   "metadata": {},
   "outputs": [],
   "source": [
    "import numpy as np\n",
    "import pandas as pd\n",
    "import matplotlib.pyplot as plt\n",
    "import seaborn as sns\n",
    "import os # 파일 경로나 환경 변수 등을 다룰 때 사용(예: 모델 저장, 데이터 경로 설정 등)\n",
    "import re # Regular expressions for text cleaning, 정규 표현식으로 텍스트 전처리(예: 불필요한 문자 제거)\n",
    "\n",
    "# Deep Learning Framework\n",
    "import torch  # 전체적으로 텐서 연산, GPU 사용 등 핵심 PyTorch 기능\n",
    "from torch.utils.data import Dataset, DataLoader  \n",
    "# Dataset : 커스텀 데이터셋 클래스를 만들 때 사용(텍스트와 레이블을 묶는 클래스 정의)\n",
    "# DateLoader : Dataset을 배치 단위로 나눠서 모델에 공급\n",
    "\n",
    "from torch import nn  # nn : 신경망 구성 요소(예: loss function, layer 등)\n",
    "from torch.optim import AdamW  # AdamW : Transformer 계열 모델에 최적화된 optimizer (Adam with weight decay)\n",
    "\n",
    "# Hugging Face Transformers\n",
    "from transformers import BertTokenizer, BertForSequenceClassification, get_linear_schedule_with_warmup\n",
    "\n",
    "#  BertTokenizer : 문장을 토큰화해서 BERT 입력 형태로 변환\n",
    "#  BertForSequenceClassification : BERT를 기반으로 분류 작업을 수행하는 모델 구조\n",
    "#  get_linear_schedule_with_warmup : 학습 초반에는 learning rate를 천천히 올리고 이후 선형 감소시키는 학습률 스케쥴링 기법\n",
    "\n",
    "# Scikit-learn\n",
    "from sklearn.model_selection import train_test_split\n",
    "from sklearn.metrics import roc_auc_score, classification_report, hamming_loss, accuracy_score \n",
    "# Accuracy is less informative for multi-label\n",
    "\n",
    "# train_test_split : 데이터를 학습 / 검증 세트로 나누는 데 사용\n",
    "# roc_auc_score : ROC, AUC 평가 지표 (멀티라벨 분류에서도 유용)\n",
    "# classification_report : 정밀도, 재현율, F1 score 등을 정리한 리포트 생성\n",
    "# hamming_loss : 멀티라벨 분류에서 틀린 레이블 비율을 측정\n",
    "# accuracy_score : 전체 정확도 (하지만 멀티라벨에서는 정보가 제한적으로 주석이 달린 것처럼 사용에 주의)"
   ]
  },
  {
   "cell_type": "code",
   "execution_count": 8,
   "id": "e0c26d37",
   "metadata": {},
   "outputs": [
    {
     "name": "stdout",
     "output_type": "stream",
     "text": [
      "Using device: cpu\n"
     ]
    }
   ],
   "source": [
    "# set random seeds for reproducibility\n",
    "SEED = 42\n",
    "np.random.seed(SEED)\n",
    "torch.manual_seed(SEED)  # CPU 연산에서 무작위 요소 고정\n",
    "torch.cuda.manual_seed_all(SEED)  # CUDA(GPU)에서도 동일하게 고정\n",
    "\n",
    "# setup device\n",
    "device = torch.device(\"cuda\" if torch.cuda.is_available() else \"cpu\")\n",
    "print(f\"Using device: {device}\")"
   ]
  },
  {
   "cell_type": "code",
   "execution_count": 10,
   "id": "16270c36",
   "metadata": {},
   "outputs": [],
   "source": [
    "# 난 CPU라서 좀 수정\n",
    "# BATCH_SIZE 16 -> 4  병렬 처리 크기\n",
    "# MAX_LENGTH 128 -> 64 문장 길이를 줄임\n",
    "# EPOCHS 3 -> 1  전체 데이터 셋을 몇 번 반복해서 학습할지\n",
    "\n",
    "# Configuration (Adjust these as needed)\n",
    "MODEL_NAME = 'bert-base-uncased'\n",
    "MAX_LENGTH = 64 # Max sequence length BERT can handle (adjust based on EDA)\n",
    "BATCH_SIZE = 4 # Adjust based on GPU memory\n",
    "EPOCHS = 1 # Number of training epochs (BERT fine-tuning usually requires few epochs)\n",
    "LEARNING_RATE = 2e-5 # Common learning rate for BERT fine-tuning"
   ]
  },
  {
   "cell_type": "markdown",
   "id": "77c5ae94",
   "metadata": {},
   "source": [
    "# 3. Loading Data"
   ]
  },
  {
   "cell_type": "code",
   "execution_count": 12,
   "id": "7dd13b51",
   "metadata": {},
   "outputs": [],
   "source": [
    "train_df = pd.read_csv(\"train.csv\")\n",
    "test_df = pd.read_csv(\"test.csv\")\n",
    "smaple_submission_df = pd.read_csv(\"sample_submission.csv\")"
   ]
  },
  {
   "cell_type": "code",
   "execution_count": 13,
   "id": "7dde5aeb",
   "metadata": {},
   "outputs": [
    {
     "name": "stdout",
     "output_type": "stream",
     "text": [
      "Train Data Shape: (159571, 8)\n",
      "Test Data Shape: (153164, 2)\n"
     ]
    }
   ],
   "source": [
    "print(\"Train Data Shape:\", train_df.shape)\n",
    "print(\"Test Data Shape:\", test_df.shape)"
   ]
  },
  {
   "cell_type": "code",
   "execution_count": 14,
   "id": "7ff3a2be",
   "metadata": {},
   "outputs": [],
   "source": [
    "label_cols = ['toxic', 'severe_toxic', 'obscene', 'threat', 'insult', 'identity_hate']"
   ]
  },
  {
   "cell_type": "code",
   "execution_count": 17,
   "id": "07510574",
   "metadata": {},
   "outputs": [
    {
     "data": {
      "text/html": [
       "<div>\n",
       "<style scoped>\n",
       "    .dataframe tbody tr th:only-of-type {\n",
       "        vertical-align: middle;\n",
       "    }\n",
       "\n",
       "    .dataframe tbody tr th {\n",
       "        vertical-align: top;\n",
       "    }\n",
       "\n",
       "    .dataframe thead th {\n",
       "        text-align: right;\n",
       "    }\n",
       "</style>\n",
       "<table border=\"1\" class=\"dataframe\">\n",
       "  <thead>\n",
       "    <tr style=\"text-align: right;\">\n",
       "      <th></th>\n",
       "      <th>id</th>\n",
       "      <th>comment_text</th>\n",
       "      <th>toxic</th>\n",
       "      <th>severe_toxic</th>\n",
       "      <th>obscene</th>\n",
       "      <th>threat</th>\n",
       "      <th>insult</th>\n",
       "      <th>identity_hate</th>\n",
       "    </tr>\n",
       "  </thead>\n",
       "  <tbody>\n",
       "    <tr>\n",
       "      <th>0</th>\n",
       "      <td>0000997932d777bf</td>\n",
       "      <td>Explanation\\nWhy the edits made under my usern...</td>\n",
       "      <td>0</td>\n",
       "      <td>0</td>\n",
       "      <td>0</td>\n",
       "      <td>0</td>\n",
       "      <td>0</td>\n",
       "      <td>0</td>\n",
       "    </tr>\n",
       "    <tr>\n",
       "      <th>1</th>\n",
       "      <td>000103f0d9cfb60f</td>\n",
       "      <td>D'aww! He matches this background colour I'm s...</td>\n",
       "      <td>0</td>\n",
       "      <td>0</td>\n",
       "      <td>0</td>\n",
       "      <td>0</td>\n",
       "      <td>0</td>\n",
       "      <td>0</td>\n",
       "    </tr>\n",
       "    <tr>\n",
       "      <th>2</th>\n",
       "      <td>000113f07ec002fd</td>\n",
       "      <td>Hey man, I'm really not trying to edit war. It...</td>\n",
       "      <td>0</td>\n",
       "      <td>0</td>\n",
       "      <td>0</td>\n",
       "      <td>0</td>\n",
       "      <td>0</td>\n",
       "      <td>0</td>\n",
       "    </tr>\n",
       "    <tr>\n",
       "      <th>3</th>\n",
       "      <td>0001b41b1c6bb37e</td>\n",
       "      <td>\"\\nMore\\nI can't make any real suggestions on ...</td>\n",
       "      <td>0</td>\n",
       "      <td>0</td>\n",
       "      <td>0</td>\n",
       "      <td>0</td>\n",
       "      <td>0</td>\n",
       "      <td>0</td>\n",
       "    </tr>\n",
       "    <tr>\n",
       "      <th>4</th>\n",
       "      <td>0001d958c54c6e35</td>\n",
       "      <td>You, sir, are my hero. Any chance you remember...</td>\n",
       "      <td>0</td>\n",
       "      <td>0</td>\n",
       "      <td>0</td>\n",
       "      <td>0</td>\n",
       "      <td>0</td>\n",
       "      <td>0</td>\n",
       "    </tr>\n",
       "    <tr>\n",
       "      <th>...</th>\n",
       "      <td>...</td>\n",
       "      <td>...</td>\n",
       "      <td>...</td>\n",
       "      <td>...</td>\n",
       "      <td>...</td>\n",
       "      <td>...</td>\n",
       "      <td>...</td>\n",
       "      <td>...</td>\n",
       "    </tr>\n",
       "    <tr>\n",
       "      <th>159566</th>\n",
       "      <td>ffe987279560d7ff</td>\n",
       "      <td>\":::::And for the second time of asking, when ...</td>\n",
       "      <td>0</td>\n",
       "      <td>0</td>\n",
       "      <td>0</td>\n",
       "      <td>0</td>\n",
       "      <td>0</td>\n",
       "      <td>0</td>\n",
       "    </tr>\n",
       "    <tr>\n",
       "      <th>159567</th>\n",
       "      <td>ffea4adeee384e90</td>\n",
       "      <td>You should be ashamed of yourself \\n\\nThat is ...</td>\n",
       "      <td>0</td>\n",
       "      <td>0</td>\n",
       "      <td>0</td>\n",
       "      <td>0</td>\n",
       "      <td>0</td>\n",
       "      <td>0</td>\n",
       "    </tr>\n",
       "    <tr>\n",
       "      <th>159568</th>\n",
       "      <td>ffee36eab5c267c9</td>\n",
       "      <td>Spitzer \\n\\nUmm, theres no actual article for ...</td>\n",
       "      <td>0</td>\n",
       "      <td>0</td>\n",
       "      <td>0</td>\n",
       "      <td>0</td>\n",
       "      <td>0</td>\n",
       "      <td>0</td>\n",
       "    </tr>\n",
       "    <tr>\n",
       "      <th>159569</th>\n",
       "      <td>fff125370e4aaaf3</td>\n",
       "      <td>And it looks like it was actually you who put ...</td>\n",
       "      <td>0</td>\n",
       "      <td>0</td>\n",
       "      <td>0</td>\n",
       "      <td>0</td>\n",
       "      <td>0</td>\n",
       "      <td>0</td>\n",
       "    </tr>\n",
       "    <tr>\n",
       "      <th>159570</th>\n",
       "      <td>fff46fc426af1f9a</td>\n",
       "      <td>\"\\nAnd ... I really don't think you understand...</td>\n",
       "      <td>0</td>\n",
       "      <td>0</td>\n",
       "      <td>0</td>\n",
       "      <td>0</td>\n",
       "      <td>0</td>\n",
       "      <td>0</td>\n",
       "    </tr>\n",
       "  </tbody>\n",
       "</table>\n",
       "<p>159571 rows × 8 columns</p>\n",
       "</div>"
      ],
      "text/plain": [
       "                      id                                       comment_text  \\\n",
       "0       0000997932d777bf  Explanation\\nWhy the edits made under my usern...   \n",
       "1       000103f0d9cfb60f  D'aww! He matches this background colour I'm s...   \n",
       "2       000113f07ec002fd  Hey man, I'm really not trying to edit war. It...   \n",
       "3       0001b41b1c6bb37e  \"\\nMore\\nI can't make any real suggestions on ...   \n",
       "4       0001d958c54c6e35  You, sir, are my hero. Any chance you remember...   \n",
       "...                  ...                                                ...   \n",
       "159566  ffe987279560d7ff  \":::::And for the second time of asking, when ...   \n",
       "159567  ffea4adeee384e90  You should be ashamed of yourself \\n\\nThat is ...   \n",
       "159568  ffee36eab5c267c9  Spitzer \\n\\nUmm, theres no actual article for ...   \n",
       "159569  fff125370e4aaaf3  And it looks like it was actually you who put ...   \n",
       "159570  fff46fc426af1f9a  \"\\nAnd ... I really don't think you understand...   \n",
       "\n",
       "        toxic  severe_toxic  obscene  threat  insult  identity_hate  \n",
       "0           0             0        0       0       0              0  \n",
       "1           0             0        0       0       0              0  \n",
       "2           0             0        0       0       0              0  \n",
       "3           0             0        0       0       0              0  \n",
       "4           0             0        0       0       0              0  \n",
       "...       ...           ...      ...     ...     ...            ...  \n",
       "159566      0             0        0       0       0              0  \n",
       "159567      0             0        0       0       0              0  \n",
       "159568      0             0        0       0       0              0  \n",
       "159569      0             0        0       0       0              0  \n",
       "159570      0             0        0       0       0              0  \n",
       "\n",
       "[159571 rows x 8 columns]"
      ]
     },
     "execution_count": 17,
     "metadata": {},
     "output_type": "execute_result"
    }
   ],
   "source": [
    "train_df"
   ]
  },
  {
   "cell_type": "code",
   "execution_count": 16,
   "id": "936870a9",
   "metadata": {},
   "outputs": [
    {
     "data": {
      "text/html": [
       "<div>\n",
       "<style scoped>\n",
       "    .dataframe tbody tr th:only-of-type {\n",
       "        vertical-align: middle;\n",
       "    }\n",
       "\n",
       "    .dataframe tbody tr th {\n",
       "        vertical-align: top;\n",
       "    }\n",
       "\n",
       "    .dataframe thead th {\n",
       "        text-align: right;\n",
       "    }\n",
       "</style>\n",
       "<table border=\"1\" class=\"dataframe\">\n",
       "  <thead>\n",
       "    <tr style=\"text-align: right;\">\n",
       "      <th></th>\n",
       "      <th>id</th>\n",
       "      <th>comment_text</th>\n",
       "    </tr>\n",
       "  </thead>\n",
       "  <tbody>\n",
       "    <tr>\n",
       "      <th>0</th>\n",
       "      <td>00001cee341fdb12</td>\n",
       "      <td>Yo bitch Ja Rule is more succesful then you'll...</td>\n",
       "    </tr>\n",
       "    <tr>\n",
       "      <th>1</th>\n",
       "      <td>0000247867823ef7</td>\n",
       "      <td>== From RfC == \\n\\n The title is fine as it is...</td>\n",
       "    </tr>\n",
       "    <tr>\n",
       "      <th>2</th>\n",
       "      <td>00013b17ad220c46</td>\n",
       "      <td>\" \\n\\n == Sources == \\n\\n * Zawe Ashton on Lap...</td>\n",
       "    </tr>\n",
       "    <tr>\n",
       "      <th>3</th>\n",
       "      <td>00017563c3f7919a</td>\n",
       "      <td>:If you have a look back at the source, the in...</td>\n",
       "    </tr>\n",
       "    <tr>\n",
       "      <th>4</th>\n",
       "      <td>00017695ad8997eb</td>\n",
       "      <td>I don't anonymously edit articles at all.</td>\n",
       "    </tr>\n",
       "    <tr>\n",
       "      <th>...</th>\n",
       "      <td>...</td>\n",
       "      <td>...</td>\n",
       "    </tr>\n",
       "    <tr>\n",
       "      <th>153159</th>\n",
       "      <td>fffcd0960ee309b5</td>\n",
       "      <td>. \\n i totally agree, this stuff is nothing bu...</td>\n",
       "    </tr>\n",
       "    <tr>\n",
       "      <th>153160</th>\n",
       "      <td>fffd7a9a6eb32c16</td>\n",
       "      <td>== Throw from out field to home plate. == \\n\\n...</td>\n",
       "    </tr>\n",
       "    <tr>\n",
       "      <th>153161</th>\n",
       "      <td>fffda9e8d6fafa9e</td>\n",
       "      <td>\" \\n\\n == Okinotorishima categories == \\n\\n I ...</td>\n",
       "    </tr>\n",
       "    <tr>\n",
       "      <th>153162</th>\n",
       "      <td>fffe8f1340a79fc2</td>\n",
       "      <td>\" \\n\\n == \"\"One of the founding nations of the...</td>\n",
       "    </tr>\n",
       "    <tr>\n",
       "      <th>153163</th>\n",
       "      <td>ffffce3fb183ee80</td>\n",
       "      <td>\" \\n :::Stop already. Your bullshit is not wel...</td>\n",
       "    </tr>\n",
       "  </tbody>\n",
       "</table>\n",
       "<p>153164 rows × 2 columns</p>\n",
       "</div>"
      ],
      "text/plain": [
       "                      id                                       comment_text\n",
       "0       00001cee341fdb12  Yo bitch Ja Rule is more succesful then you'll...\n",
       "1       0000247867823ef7  == From RfC == \\n\\n The title is fine as it is...\n",
       "2       00013b17ad220c46  \" \\n\\n == Sources == \\n\\n * Zawe Ashton on Lap...\n",
       "3       00017563c3f7919a  :If you have a look back at the source, the in...\n",
       "4       00017695ad8997eb          I don't anonymously edit articles at all.\n",
       "...                  ...                                                ...\n",
       "153159  fffcd0960ee309b5  . \\n i totally agree, this stuff is nothing bu...\n",
       "153160  fffd7a9a6eb32c16  == Throw from out field to home plate. == \\n\\n...\n",
       "153161  fffda9e8d6fafa9e  \" \\n\\n == Okinotorishima categories == \\n\\n I ...\n",
       "153162  fffe8f1340a79fc2  \" \\n\\n == \"\"One of the founding nations of the...\n",
       "153163  ffffce3fb183ee80  \" \\n :::Stop already. Your bullshit is not wel...\n",
       "\n",
       "[153164 rows x 2 columns]"
      ]
     },
     "execution_count": 16,
     "metadata": {},
     "output_type": "execute_result"
    }
   ],
   "source": [
    "test_df"
   ]
  },
  {
   "cell_type": "markdown",
   "id": "dac1bfb2",
   "metadata": {},
   "source": [
    "# 4. Exploratory Data Analysis (EDA)"
   ]
  },
  {
   "cell_type": "markdown",
   "id": "d6ed0ce9",
   "metadata": {},
   "source": [
    "## 4-1. Target Label Distribution"
   ]
  },
  {
   "cell_type": "code",
   "execution_count": 19,
   "id": "ef9a27fb",
   "metadata": {},
   "outputs": [
    {
     "data": {
      "text/plain": [
       "toxic            15294\n",
       "severe_toxic      1595\n",
       "obscene           8449\n",
       "threat             478\n",
       "insult            7877\n",
       "identity_hate     1405\n",
       "dtype: int64"
      ]
     },
     "execution_count": 19,
     "metadata": {},
     "output_type": "execute_result"
    }
   ],
   "source": [
    "# calculate label counts and percentages\n",
    "label_counts = train_df[label_cols].sum()\n",
    "label_counts"
   ]
  },
  {
   "cell_type": "code",
   "execution_count": 21,
   "id": "53739278",
   "metadata": {},
   "outputs": [
    {
     "data": {
      "text/plain": [
       "toxic            9.584448\n",
       "severe_toxic     0.999555\n",
       "obscene          5.294822\n",
       "threat           0.299553\n",
       "insult           4.936361\n",
       "identity_hate    0.880486\n",
       "dtype: float64"
      ]
     },
     "execution_count": 21,
     "metadata": {},
     "output_type": "execute_result"
    }
   ],
   "source": [
    "label_percentages = (label_counts / len(train_df)) * 100\n",
    "label_percentages"
   ]
  },
  {
   "cell_type": "code",
   "execution_count": 23,
   "id": "797fbe5a",
   "metadata": {},
   "outputs": [
    {
     "data": {
      "text/html": [
       "<div>\n",
       "<style scoped>\n",
       "    .dataframe tbody tr th:only-of-type {\n",
       "        vertical-align: middle;\n",
       "    }\n",
       "\n",
       "    .dataframe tbody tr th {\n",
       "        vertical-align: top;\n",
       "    }\n",
       "\n",
       "    .dataframe thead th {\n",
       "        text-align: right;\n",
       "    }\n",
       "</style>\n",
       "<table border=\"1\" class=\"dataframe\">\n",
       "  <thead>\n",
       "    <tr style=\"text-align: right;\">\n",
       "      <th></th>\n",
       "      <th>count</th>\n",
       "      <th>percentage</th>\n",
       "    </tr>\n",
       "  </thead>\n",
       "  <tbody>\n",
       "    <tr>\n",
       "      <th>toxic</th>\n",
       "      <td>15294</td>\n",
       "      <td>9.584448</td>\n",
       "    </tr>\n",
       "    <tr>\n",
       "      <th>severe_toxic</th>\n",
       "      <td>1595</td>\n",
       "      <td>0.999555</td>\n",
       "    </tr>\n",
       "    <tr>\n",
       "      <th>obscene</th>\n",
       "      <td>8449</td>\n",
       "      <td>5.294822</td>\n",
       "    </tr>\n",
       "    <tr>\n",
       "      <th>threat</th>\n",
       "      <td>478</td>\n",
       "      <td>0.299553</td>\n",
       "    </tr>\n",
       "    <tr>\n",
       "      <th>insult</th>\n",
       "      <td>7877</td>\n",
       "      <td>4.936361</td>\n",
       "    </tr>\n",
       "    <tr>\n",
       "      <th>identity_hate</th>\n",
       "      <td>1405</td>\n",
       "      <td>0.880486</td>\n",
       "    </tr>\n",
       "  </tbody>\n",
       "</table>\n",
       "</div>"
      ],
      "text/plain": [
       "               count  percentage\n",
       "toxic          15294    9.584448\n",
       "severe_toxic    1595    0.999555\n",
       "obscene         8449    5.294822\n",
       "threat           478    0.299553\n",
       "insult          7877    4.936361\n",
       "identity_hate   1405    0.880486"
      ]
     },
     "execution_count": 23,
     "metadata": {},
     "output_type": "execute_result"
    }
   ],
   "source": [
    "# Create a DataFrame for plotting\n",
    "label_stats_df = pd.DataFrame({\"count\" : label_counts, \"percentage\" : label_percentages})\n",
    "label_stats_df"
   ]
  },
  {
   "cell_type": "code",
   "execution_count": 24,
   "id": "d1e02703",
   "metadata": {},
   "outputs": [
    {
     "data": {
      "image/png": "[encoded data removed]",
      "text/plain": [
       "<Figure size 1200x600 with 1 Axes>"
      ]
     },
     "metadata": {},
     "output_type": "display_data"
    }
   ],
   "source": [
    "plt.figure(figsize=(12, 6))\n",
    "sns.barplot(x=label_stats_df.index, y=label_stats_df['count'])\n",
    "plt.title('Distribution of Toxicity Labels')\n",
    "plt.ylabel('Number of Comments')\n",
    "plt.xlabel('Toxicity Type')\n",
    "plt.xticks(rotation=45)\n",
    "plt.show()"
   ]
  },
  {
   "cell_type": "code",
   "execution_count": 26,
   "id": "d34ec610",
   "metadata": {},
   "outputs": [
    {
     "data": {
      "text/plain": [
       "143346"
      ]
     },
     "execution_count": 26,
     "metadata": {},
     "output_type": "execute_result"
    }
   ],
   "source": [
    "# check for comments with no labels (clean comments)\n",
    "no_label_count = len(train_df[train_df[label_cols].sum(axis=1) == 0])\n",
    "no_label_count"
   ]
  },
  {
   "cell_type": "code",
   "execution_count": 27,
   "id": "941f9241",
   "metadata": {},
   "outputs": [
    {
     "data": {
      "image/png": "[encoded data removed]",
      "text/plain": [
       "<Figure size 800x600 with 2 Axes>"
      ]
     },
     "metadata": {},
     "output_type": "display_data"
    }
   ],
   "source": [
    "# Multi-label Correlation\n",
    "plt.figure(figsize=(8, 6))\n",
    "sns.heatmap(train_df[label_cols].corr(), annot=True, cmap='coolwarm', fmt=\".2f\")\n",
    "plt.title('Correlation Matrix of Toxicity Labels')\n",
    "plt.show()"
   ]
  },
  {
   "cell_type": "markdown",
   "id": "13160c4c",
   "metadata": {},
   "source": [
    "High correlation between 'toxic' and 'obsence' & 'insult'\\\n",
    "Severe toxic implies toxic"
   ]
  },
  {
   "cell_type": "markdown",
   "id": "a955be2e",
   "metadata": {},
   "source": [
    "## 4-2. Comment Length Analysis"
   ]
  },
  {
   "cell_type": "code",
   "execution_count": 28,
   "id": "2c1e4adf",
   "metadata": {},
   "outputs": [],
   "source": [
    "train_df[\"comment_length\"] = train_df[\"comment_text\"].apply(lambda x : len(x.split()))\n",
    "test_df[\"comment_length\"] = test_df[\"comment_text\"].apply(lambda x : len(x.split()))"
   ]
  },
  {
   "cell_type": "code",
   "execution_count": 29,
   "id": "0d118823",
   "metadata": {},
   "outputs": [
    {
     "data": {
      "image/png": "[encoded data removed]",
      "text/plain": [
       "<Figure size 1200x600 with 1 Axes>"
      ]
     },
     "metadata": {},
     "output_type": "display_data"
    }
   ],
   "source": [
    "plt.figure(figsize=(12, 6))\n",
    "sns.histplot(train_df[\"comment_length\"], bins=100, kde=True)\n",
    "plt.title(\"Distribution of Comment Length (Words)\")\n",
    "plt.xlabel(\"Number of Words\")\n",
    "plt.ylabel(\"Frequency\")\n",
    "\n",
    "plt.xlim(0, 500)\n",
    "plt.show()"
   ]
  },
  {
   "cell_type": "markdown",
   "id": "44e7f188",
   "metadata": {},
   "source": [
    "Most comments are well below 512 tokens, but some are longer.\\\n",
    "Max_length = 128 or 256 might be reasonable start"
   ]
  },
  {
   "cell_type": "markdown",
   "id": "5ccddef0",
   "metadata": {},
   "source": [
    "# 5. Data Processing & Tokenization"
   ]
  },
  {
   "cell_type": "markdown",
   "id": "729b4177",
   "metadata": {},
   "source": [
    "## 5.1. Text Cleaning(Minimal for BERT)"
   ]
  },
  {
   "cell_type": "code",
   "execution_count": 30,
   "id": "082c196c",
   "metadata": {},
   "outputs": [],
   "source": [
    "def clean_text(text):\n",
    "    text = str(text)\n",
    "    # remove URLs (optional, BERT might handel some context)\n",
    "    \n",
    "    text = re.sub(r'\\s+', ' ', text).strip()\n",
    "    return text"
   ]
  },
  {
   "cell_type": "code",
   "execution_count": 37,
   "id": "0f791113",
   "metadata": {},
   "outputs": [],
   "source": [
    "train_df[\"comment_text_cleaned\"] = train_df[\"comment_text\"]\n",
    "test_df[\"comment_text-cleaned\"] = test_df[\"comment_text\"]"
   ]
  },
  {
   "cell_type": "markdown",
   "id": "5dbe58a7",
   "metadata": {},
   "source": [
    "## 5.2. Tokenization with BERT Tokenizer"
   ]
  },
  {
   "cell_type": "code",
   "execution_count": 32,
   "id": "8f16a5f2",
   "metadata": {},
   "outputs": [
    {
     "data": {
      "application/vnd.jupyter.widget-view+json": {
       "model_id": "147ade0ce8704debb09f40d7cbfa4be1",
       "version_major": 2,
       "version_minor": 0
      },
      "text/plain": [
       "tokenizer_config.json:   0%|          | 0.00/48.0 [00:00<?, ?B/s]"
      ]
     },
     "metadata": {},
     "output_type": "display_data"
    },
    {
     "name": "stderr",
     "output_type": "stream",
     "text": [
      "C:\\Users\\cloud\\anaconda3\\lib\\site-packages\\huggingface_hub\\file_download.py:143: UserWarning: `huggingface_hub` cache-system uses symlinks by default to efficiently store duplicated files but your machine does not support them in C:\\Users\\cloud\\.cache\\huggingface\\hub\\models--bert-base-uncased. Caching files will still work but in a degraded version that might require more space on your disk. This warning can be disabled by setting the `HF_HUB_DISABLE_SYMLINKS_WARNING` environment variable. For more details, see https://huggingface.co/docs/huggingface_hub/how-to-cache#limitations.\n",
      "To support symlinks on Windows, you either need to activate Developer Mode or to run Python as an administrator. In order to activate developer mode, see this article: https://docs.microsoft.com/en-us/windows/apps/get-started/enable-your-device-for-development\n",
      "  warnings.warn(message)\n"
     ]
    },
    {
     "data": {
      "application/vnd.jupyter.widget-view+json": {
       "model_id": "a1f381273a404f59ae00bdc1f73e3685",
       "version_major": 2,
       "version_minor": 0
      },
      "text/plain": [
       "vocab.txt:   0%|          | 0.00/232k [00:00<?, ?B/s]"
      ]
     },
     "metadata": {},
     "output_type": "display_data"
    },
    {
     "data": {
      "application/vnd.jupyter.widget-view+json": {
       "model_id": "43fc4682725b460a9363b30b25de30b9",
       "version_major": 2,
       "version_minor": 0
      },
      "text/plain": [
       "tokenizer.json:   0%|          | 0.00/466k [00:00<?, ?B/s]"
      ]
     },
     "metadata": {},
     "output_type": "display_data"
    },
    {
     "data": {
      "application/vnd.jupyter.widget-view+json": {
       "model_id": "5b79b55e70974e39be8a75ccd43b9ec3",
       "version_major": 2,
       "version_minor": 0
      },
      "text/plain": [
       "config.json:   0%|          | 0.00/570 [00:00<?, ?B/s]"
      ]
     },
     "metadata": {},
     "output_type": "display_data"
    }
   ],
   "source": [
    "tokenizer = BertTokenizer.from_pretrained(MODEL_NAME)\n",
    "\n",
    "# Example tokenization\n",
    "sample_text = \"This is a sample comment for tokenization.\"\n",
    "tokens = tokenizer.encode_plus(\n",
    "    sample_text,\n",
    "    max_length=32,        # 최대 길이를 32로 제한\n",
    "    padding='max_length', # Pad to max_length // 문장이 짧으면 빈 부분은 0으로 패딩\n",
    "    truncation=True,      # Truncate longer sequences // 문장이 너무 길면 잘라냄\n",
    "    return_tensors='pt'   # Return PyTorch tensors // 결과를 Pytorch tensor 형태로 반환\n",
    ")"
   ]
  },
  {
   "cell_type": "code",
   "execution_count": 33,
   "id": "0a5e81f3",
   "metadata": {},
   "outputs": [
    {
     "name": "stdout",
     "output_type": "stream",
     "text": [
      "\n",
      "Sample Tokenization:\n",
      "Text: This is a sample comment for tokenization.\n",
      "Tokens: ['[CLS]', 'this', 'is', 'a', 'sample', 'comment', 'for', 'token', '##ization', '.', '[SEP]', '[PAD]', '[PAD]', '[PAD]', '[PAD]', '[PAD]', '[PAD]', '[PAD]', '[PAD]', '[PAD]', '[PAD]', '[PAD]', '[PAD]', '[PAD]', '[PAD]', '[PAD]', '[PAD]', '[PAD]', '[PAD]', '[PAD]', '[PAD]', '[PAD]']\n",
      "Input IDs: tensor([[  101,  2023,  2003,  1037,  7099,  7615,  2005, 19204,  3989,  1012,\n",
      "           102,     0,     0,     0,     0,     0,     0,     0,     0,     0,\n",
      "             0,     0,     0,     0,     0,     0,     0,     0,     0,     0,\n",
      "             0,     0]])\n",
      "Attention Mask: tensor([[1, 1, 1, 1, 1, 1, 1, 1, 1, 1, 1, 0, 0, 0, 0, 0, 0, 0, 0, 0, 0, 0, 0, 0,\n",
      "         0, 0, 0, 0, 0, 0, 0, 0]])\n"
     ]
    }
   ],
   "source": [
    "print(\"\\nSample Tokenization:\")\n",
    "print(f\"Text: {sample_text}\")\n",
    "print(f\"Tokens: {tokenizer.convert_ids_to_tokens(tokens['input_ids'][0])}\")\n",
    "print(f\"Input IDs: {tokens['input_ids']}\")\n",
    "print(f\"Attention Mask: {tokens['attention_mask']}\")"
   ]
  },
  {
   "cell_type": "markdown",
   "id": "99474899",
   "metadata": {},
   "source": [
    "## 5.3. Creating Pytorch Datasets and DataLoaders"
   ]
  },
  {
   "cell_type": "code",
   "execution_count": 34,
   "id": "dd90dcce",
   "metadata": {},
   "outputs": [],
   "source": [
    "class ToxicCommentDataset(Dataset):\n",
    "    def __init__(self, comments, labels, tokenizer, max_len):\n",
    "        self.comments = comments\n",
    "        self.labels = labels\n",
    "        self.tokenizer = tokenizer\n",
    "        self.max_len = max_len\n",
    "\n",
    "    def __len__(self):\n",
    "        return len(self.comments)\n",
    "\n",
    "    def __getitem__(self, item):\n",
    "        comment = str(self.comments[item])\n",
    "        target = self.labels[item]\n",
    "\n",
    "        encoding = self.tokenizer.encode_plus(\n",
    "            comment,\n",
    "            add_special_tokens=True, # Add '[CLS]' and '[SEP]'\n",
    "            max_length=self.max_len,\n",
    "            return_token_type_ids=False, # Not needed for basic BERT classification\n",
    "            padding='max_length',\n",
    "            truncation=True,\n",
    "            return_attention_mask=True,\n",
    "            return_tensors='pt', # Return PyTorch tensors\n",
    "        )\n",
    "\n",
    "        return {\n",
    "            'comment_text': comment,\n",
    "            'input_ids': encoding['input_ids'].flatten(),\n",
    "            'attention_mask': encoding['attention_mask'].flatten(),\n",
    "            'labels': torch.tensor(target, dtype=torch.float) # Use float for BCEWithLogitsLoss\n",
    "        }"
   ]
  },
  {
   "cell_type": "code",
   "execution_count": 38,
   "id": "b7bb1930",
   "metadata": {},
   "outputs": [],
   "source": [
    "X = train_df[\"comment_text_cleaned\"].values\n",
    "y = train_df[label_cols].values\n",
    "\n",
    "X_train, X_val, y_train, y_val = train_test_split(\n",
    "    X, y,\n",
    "    test_size = 0.1,\n",
    "    random_state=SEED\n",
    ")"
   ]
  },
  {
   "cell_type": "code",
   "execution_count": 39,
   "id": "599fb575",
   "metadata": {},
   "outputs": [],
   "source": [
    "train_dataset = ToxicCommentDataset(X_train, y_train, tokenizer, MAX_LENGTH)\n",
    "val_dataset = ToxicCommentDataset(X_val, y_val, tokenizer, MAX_LENGTH)\n",
    "\n",
    "train_dataloader = DataLoader(train_dataset, batch_size=BATCH_SIZE, shuffle=True, num_workers=2)\n",
    "val_dataloader = DataLoader(val_dataset, batch_size=BATCH_SIZE, shuffle=False, num_workers=2)"
   ]
  },
  {
   "cell_type": "code",
   "execution_count": null,
   "id": "e423f5fa",
   "metadata": {},
   "outputs": [],
   "source": [
    "data = next(iter(train_dataloader))\n",
    "\n",
    "print(\"\\nSample batch shapes:\")\n",
    "print(\"Input IDs:\", data['input_ids'].shape)\n",
    "print(\"Attention Mask:\", data['attention_mask'].shape)\n",
    "print(\"Labels:\", data['labels'].shape)"
   ]
  },
  {
   "cell_type": "markdown",
   "id": "2dc263b1",
   "metadata": {},
   "source": [
    "# 6. Model Definition"
   ]
  },
  {
   "cell_type": "code",
   "execution_count": null,
   "id": "e0425779",
   "metadata": {},
   "outputs": [],
   "source": [
    "model = BetroForSequenceClassification.from_pretrained(\n",
    "    MODEL_NAME,\n",
    "    num_labels = len(label_cols),\n",
    "    output_attentions=False,   # set true if want attention weights\n",
    "    output_hidden_states=False   # sest True if want hidden states\n",
    ")\n",
    "\n",
    "model.to(device)"
   ]
  },
  {
   "cell_type": "markdown",
   "id": "88835ed1",
   "metadata": {},
   "source": [
    "# 7. Model Training"
   ]
  },
  {
   "cell_type": "markdown",
   "id": "fc3f07d9",
   "metadata": {},
   "source": [
    "## 7-1. Setup Optimizer and Scheduler"
   ]
  },
  {
   "cell_type": "code",
   "execution_count": null,
   "id": "d0df88f4",
   "metadata": {},
   "outputs": [],
   "source": [
    "# Optimizer\n",
    "optimizer = AdamW(model.parameters(), lr=LEARNING_RATE, eps=1e-8)\n",
    "\n",
    "# Total number of training steps\n",
    "total_steps = len(train_dataloader) * EPOCHS\n",
    "\n",
    "# Learning rate scheduler\n",
    "scheduler = get_linear_schedule_with_warmup(\n",
    "    optimizer,\n",
    "    num_warmup_steps=0, # Optional: set a number of warmup steps (e.g., 0.1 * total_steps)\n",
    "    num_training_steps=total_steps\n",
    ")\n",
    "\n",
    "# Loss function for multi-label classification\n",
    "# BCEWithLogitsLoss combines a Sigmoid layer and Binary Cross Entropy loss in one class.\n",
    "# It's numerically more stable than using a plain Sigmoid followed by BCE Loss.\n",
    "loss_fn = nn.BCEWithLogitsLoss().to(device)"
   ]
  },
  {
   "cell_type": "markdown",
   "id": "fa188bb1",
   "metadata": {},
   "source": [
    "## 7-2. Training Loop"
   ]
  },
  {
   "cell_type": "code",
   "execution_count": null,
   "id": "9ba38840",
   "metadata": {},
   "outputs": [],
   "source": [
    "def train_epoch(model, data_loader, loss_fn, optimizer, device, scheduler):\n",
    "    model.train()\n",
    "    total_loss = 0\n",
    "    num_batches = len(data_loader)\n",
    "\n",
    "    for i, batch in enumerate(data_loader):\n",
    "        # Move batch to device\n",
    "        input_ids = batch[\"input_ids\"].to(device)\n",
    "        attention_mask = batch[\"attention_mask\"].to(device)\n",
    "        labels = batch[\"labels\"].to(device)\n",
    "\n",
    "        # Clear previous gradients\n",
    "        optimizer.zero_grad()\n",
    "\n",
    "        # Forward pass\n",
    "        outputs = model(\n",
    "            input_ids=input_ids,\n",
    "            attention_mask=attention_mask\n",
    "        )\n",
    "        logits = outputs.logits # Raw model output (before sigmoid)\n",
    "\n",
    "        # Calculate loss\n",
    "        loss = loss_fn(logits, labels)\n",
    "        total_loss += loss.item()\n",
    "\n",
    "        # Backward pass\n",
    "        loss.backward()\n",
    "\n",
    "        # Clip gradients to prevent exploding gradients (common practice)\n",
    "        nn.utils.clip_grad_norm_(model.parameters(), max_norm=1.0)\n",
    "\n",
    "        # Update parameters\n",
    "        optimizer.step()\n",
    "        scheduler.step() # Update learning rate\n",
    "\n",
    "        # Print progress (optional)\n",
    "        if (i + 1) % 100 == 0:\n",
    "             print(f'  Batch {i + 1}/{num_batches} | Loss: {loss.item():.4f}')\n",
    "\n",
    "\n",
    "    avg_train_loss = total_loss / num_batches\n",
    "    print(f\"\\n  Average Training Loss: {avg_train_loss:.4f}\")\n",
    "    return avg_train_loss"
   ]
  },
  {
   "cell_type": "markdown",
   "id": "bdc47445",
   "metadata": {},
   "source": [
    "## 7-3. Evaluation Loop"
   ]
  },
  {
   "cell_type": "code",
   "execution_count": null,
   "id": "f48fc25e",
   "metadata": {},
   "outputs": [],
   "source": [
    "def eval_model(model, data_loader, loss_fn, device):\n",
    "    model.eval() # Set model to evaluation mode\n",
    "    total_loss = 0\n",
    "    all_preds = []\n",
    "    all_labels = []\n",
    "    num_batches = len(data_loader)\n",
    "\n",
    "    with torch.no_grad(): # Disable gradient calculation\n",
    "        for batch in data_loader:\n",
    "            # Move batch to device\n",
    "            input_ids = batch[\"input_ids\"].to(device)\n",
    "            attention_mask = batch[\"attention_mask\"].to(device)\n",
    "            labels = batch[\"labels\"].to(device)\n",
    "\n",
    "            # Forward pass\n",
    "            outputs = model(\n",
    "                input_ids=input_ids,\n",
    "                attention_mask=attention_mask\n",
    "            )\n",
    "            logits = outputs.logits\n",
    "\n",
    "            # Calculate loss\n",
    "            loss = loss_fn(logits, labels)\n",
    "            total_loss += loss.item()\n",
    "\n",
    "            # Store predictions (probabilities) and true labels\n",
    "            # Apply sigmoid to logits to get probabilities\n",
    "            probs = torch.sigmoid(logits)\n",
    "            all_preds.append(probs.cpu().numpy())\n",
    "            all_labels.append(labels.cpu().numpy())\n",
    "\n",
    "    avg_val_loss = total_loss / num_batches\n",
    "    print(f\"  Average Validation Loss: {avg_val_loss:.4f}\")\n",
    "\n",
    "    # Concatenate results from all batches\n",
    "    all_preds = np.concatenate(all_preds, axis=0)\n",
    "    all_labels = np.concatenate(all_labels, axis=0)\n",
    "\n",
    "    # Calculate metrics (example: ROC AUC per label, then average)\n",
    "    # Note: Handling potential errors if a label has only one class in the validation batch/set\n",
    "    roc_auc_scores = {}\n",
    "    mean_roc_auc = 0\n",
    "    try:\n",
    "        # Calculate AUC for each label individually\n",
    "        for i, label_name in enumerate(label_cols):\n",
    "             # Check if both classes are present for the current label\n",
    "            if len(np.unique(all_labels[:, i])) > 1:\n",
    "                 roc_auc_scores[label_name] = roc_auc_score(all_labels[:, i], all_preds[:, i])\n",
    "            else:\n",
    "                 roc_auc_scores[label_name] = np.nan # Or 0.5, or skip\n",
    "        # Calculate mean AUC, ignoring NaNs\n",
    "        mean_roc_auc = np.nanmean(list(roc_auc_scores.values()))\n",
    "        print(f\"  Mean ROC AUC: {mean_roc_auc:.4f}\")\n",
    "        print(\"  Individual ROC AUC Scores:\")\n",
    "        for name, score in roc_auc_scores.items():\n",
    "             print(f\"    {name}: {score:.4f}\")\n",
    "    except Exception as e:\n",
    "        print(f\"  Could not calculate ROC AUC: {e}\")\n",
    "\n",
    "\n",
    "    # Calculate Hamming Loss (fraction of wrongly predicted labels)\n",
    "    threshold = 0.5\n",
    "    binary_preds = (all_preds > threshold).astype(int)\n",
    "    hamming = hamming_loss(all_labels, binary_preds)\n",
    "    print(f\"  Hamming Loss: {hamming:.4f}\")\n",
    "\n",
    "    # (Optional) You can also calculate Micro/Macro F1 scores or Accuracy (less useful)\n",
    "    # print(\"\\nClassification Report (threshold=0.5):\")\n",
    "    # print(classification_report(all_labels, binary_preds, target_names=label_cols, zero_division=0))\n",
    "\n",
    "\n",
    "    return avg_val_loss, mean_roc_auc, hamming # Return key metrics"
   ]
  },
  {
   "cell_type": "markdown",
   "id": "13b38f2f",
   "metadata": {},
   "source": [
    "## 7-4. Execute Training and Evaluation"
   ]
  },
  {
   "cell_type": "code",
   "execution_count": null,
   "id": "b0b34d7f",
   "metadata": {},
   "outputs": [],
   "source": [
    "history = {'train_loss': [], 'val_loss': [], 'val_roc_auc': [], 'val_hamming': []}\n",
    "best_roc_auc = -1\n",
    "best_model_state = None\n",
    "\n",
    "print(\"\\nStarting Training...\")\n",
    "for epoch in range(EPOCHS):\n",
    "    print(f'\\n--- Epoch {epoch + 1}/{EPOCHS} ---')\n",
    "\n",
    "    train_loss = train_epoch(\n",
    "        model,\n",
    "        train_dataloader,\n",
    "        loss_fn,\n",
    "        optimizer,\n",
    "        device,\n",
    "        scheduler\n",
    "    )\n",
    "    history['train_loss'].append(train_loss)\n",
    "\n",
    "    print(f\"\\n--- Validation Epoch {epoch + 1} ---\")\n",
    "    val_loss, val_roc_auc, val_hamming = eval_model(\n",
    "        model,\n",
    "        val_dataloader,\n",
    "        loss_fn,\n",
    "        device\n",
    "    )\n",
    "    history['val_loss'].append(val_loss)\n",
    "    history['val_roc_auc'].append(val_roc_auc)\n",
    "    history['val_hamming'].append(val_hamming)\n",
    "\n",
    "    # Save the best model based on validation ROC AUC\n",
    "    if val_roc_auc > best_roc_auc:\n",
    "        best_roc_auc = val_roc_auc\n",
    "        best_model_state = model.state_dict()\n",
    "        torch.save(best_model_state, 'best_model_state.bin')\n",
    "        print(f\"  ** New best model saved with ROC AUC: {best_roc_auc:.4f} **\")\n",
    "\n",
    "print(\"\\nTraining Finished.\")\n",
    "print(f\"Best Validation ROC AUC: {best_roc_auc:.4f}\")\n",
    "\n",
    "# Load the best model state for prediction\n",
    "if best_model_state:\n",
    "    model.load_state_dict(best_model_state)\n",
    "    print(\"Loaded best model state for prediction.\")"
   ]
  },
  {
   "cell_type": "markdown",
   "id": "f5f2cbdd",
   "metadata": {},
   "source": [
    "## 7-5. Plot Training History"
   ]
  },
  {
   "cell_type": "code",
   "execution_count": null,
   "id": "5619d4bb",
   "metadata": {},
   "outputs": [],
   "source": [
    "plt.figure(figsize=(12, 5))\n",
    "\n",
    "plt.subplot(1, 2, 1)\n",
    "plt.plot(range(1, EPOCHS + 1), history['train_loss'], label='Train Loss')\n",
    "plt.plot(range(1, EPOCHS + 1), history['val_loss'], label='Validation Loss')\n",
    "plt.title('Loss Over Epochs')\n",
    "plt.xlabel('Epochs')\n",
    "plt.ylabel('Loss')\n",
    "plt.legend()\n",
    "\n",
    "plt.subplot(1, 2, 2)\n",
    "plt.plot(range(1, EPOCHS + 1), history['val_roc_auc'], label='Validation Mean ROC AUC')\n",
    "plt.title('Mean ROC AUC Over Epochs')\n",
    "plt.xlabel('Epochs')\n",
    "plt.ylabel('Mean ROC AUC')\n",
    "plt.legend()\n",
    "\n",
    "plt.tight_layout()\n",
    "plt.show()\n",
    "\n",
    "## Epoch -> 데이터셋 전체를 한 번 학습하는 것"
   ]
  },
  {
   "cell_type": "markdown",
   "id": "e59a43e9",
   "metadata": {},
   "source": [
    "# 8. Prediction on Test Set"
   ]
  },
  {
   "cell_type": "markdown",
   "id": "0ad9d61a",
   "metadata": {},
   "source": [
    "## 8-1. Prepare Test Data Loader"
   ]
  },
  {
   "cell_type": "code",
   "execution_count": null,
   "id": "55222048",
   "metadata": {},
   "outputs": [],
   "source": [
    "class TestCommentDataset(Dataset):\n",
    "    def __init__(self, comments, tokenizer, max_len):\n",
    "        self.comments = comments\n",
    "        self.tokenizer = tokenizer\n",
    "        self.max_len = max_len\n",
    "\n",
    "    def __len__(self):\n",
    "        return len(self.comments)\n",
    "\n",
    "    def __getitem__(self, item):\n",
    "        comment = str(self.comments[item])\n",
    "\n",
    "        encoding = self.tokenizer.encode_plus(\n",
    "            comment,\n",
    "            add_special_tokens=True,\n",
    "            max_length=self.max_len,\n",
    "            return_token_type_ids=False,\n",
    "            padding='max_length',\n",
    "            truncation=True,\n",
    "            return_attention_mask=True,\n",
    "            return_tensors='pt',\n",
    "        )\n",
    "\n",
    "        return {\n",
    "            'input_ids': encoding['input_ids'].flatten(),\n",
    "            'attention_mask': encoding['attention_mask'].flatten(),\n",
    "        }\n",
    "\n",
    "test_texts = test_df['comment_text_cleaned'].values\n",
    "test_dataset = TestCommentDataset(test_texts, tokenizer, MAX_LENGTH)\n",
    "test_dataloader = DataLoader(test_dataset, batch_size=BATCH_SIZE, shuffle=False, num_workers=2)"
   ]
  },
  {
   "cell_type": "markdown",
   "id": "a4401813",
   "metadata": {},
   "source": [
    "## 8-2. Generate Predictions"
   ]
  },
  {
   "cell_type": "code",
   "execution_count": null,
   "id": "5053d437",
   "metadata": {},
   "outputs": [],
   "source": [
    "def predict(model, data_loader, device):\n",
    "    model.eval()\n",
    "    predictions = []\n",
    "    print(\"\\nGenerating predictions on test data...\")\n",
    "    with torch.no_grad():\n",
    "        for batch in data_loader:\n",
    "            input_ids = batch[\"input_ids\"].to(device)\n",
    "            attention_mask = batch[\"attention_mask\"].to(device)\n",
    "\n",
    "            outputs = model(\n",
    "                input_ids=input_ids,\n",
    "                attention_mask=attention_mask\n",
    "            )\n",
    "            logits = outputs.logits\n",
    "            probs = torch.sigmoid(logits) # Convert logits to probabilities (0-1 range)\n",
    "            predictions.append(probs.cpu().numpy())\n",
    "\n",
    "    return np.concatenate(predictions, axis=0)\n",
    "\n",
    "test_predictions = predict(model, test_dataloader, device)\n",
    "print(\"Predictions generated successfully.\")\n",
    "print(\"Shape of predictions:\", test_predictions.shape) # Should be (num_test_samples, num_labels)"
   ]
  },
  {
   "cell_type": "markdown",
   "id": "d38f876e",
   "metadata": {},
   "source": [
    "## 8-3. Format Submission File"
   ]
  },
  {
   "cell_type": "code",
   "execution_count": null,
   "id": "1921885d",
   "metadata": {},
   "outputs": [],
   "source": [
    "# Create submission DataFrame\n",
    "submission_df = pd.DataFrame(test_predictions, columns=label_cols)\n",
    "submission_df['id'] = test_df['id'] # Add the id column\n",
    "\n",
    "# Reorder columns to match sample_submission.csv format ('id' first, then label columns)\n",
    "submission_df = submission_df[['id'] + label_cols]\n",
    "\n",
    "print(\"\\nSubmission DataFrame Head:\")\n",
    "print(submission_df.head())\n",
    "\n",
    "# Save to CSV\n",
    "submission_df.to_csv('submission.csv', index=False)\n",
    "print(\"\\nSubmission file 'submission.csv' created successfully.\")"
   ]
  },
  {
   "cell_type": "markdown",
   "id": "6acac1ba",
   "metadata": {},
   "source": [
    "# 9. Advanced Techniques: Knowledge Distillation(Discussion)"
   ]
  },
  {
   "cell_type": "code",
   "execution_count": null,
   "id": "f80f499b",
   "metadata": {},
   "outputs": [],
   "source": []
  },
  {
   "cell_type": "code",
   "execution_count": null,
   "id": "dfa87d5c",
   "metadata": {},
   "outputs": [],
   "source": []
  },
  {
   "cell_type": "code",
   "execution_count": null,
   "id": "09c438f4",
   "metadata": {},
   "outputs": [],
   "source": []
  },
  {
   "cell_type": "code",
   "execution_count": null,
   "id": "d74b61cc",
   "metadata": {},
   "outputs": [],
   "source": []
  },
  {
   "cell_type": "code",
   "execution_count": null,
   "id": "218713f0",
   "metadata": {},
   "outputs": [],
   "source": []
  }
 ],
 "metadata": {
  "kernelspec": {
   "display_name": "Python 3 (ipykernel)",
   "language": "python",
   "name": "python3"
  },
  "language_info": {
   "codemirror_mode": {
    "name": "ipython",
    "version": 3
   },
   "file_extension": ".py",
   "mimetype": "text/x-python",
   "name": "python",
   "nbconvert_exporter": "python",
   "pygments_lexer": "ipython3",
   "version": "3.9.13"
  }
 },
 "nbformat": 4,
 "nbformat_minor": 5
}
